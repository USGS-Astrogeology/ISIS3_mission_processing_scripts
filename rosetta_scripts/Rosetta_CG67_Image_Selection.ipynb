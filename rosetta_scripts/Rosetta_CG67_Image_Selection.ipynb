{
 "cells": [
  {
   "cell_type": "code",
   "execution_count": 9,
   "metadata": {},
   "outputs": [
    {
     "ename": "KeyboardInterrupt",
     "evalue": "",
     "output_type": "error",
     "traceback": [
      "\u001b[0;31m---------------------------------------------------------------------------\u001b[0m",
      "\u001b[0;31mKeyboardInterrupt\u001b[0m                         Traceback (most recent call last)",
      "\u001b[0;32m<ipython-input-9-6dff05bda4ef>\u001b[0m in \u001b[0;36m<module>\u001b[0;34m()\u001b[0m\n\u001b[1;32m     44\u001b[0m     command = ['campt',\n\u001b[1;32m     45\u001b[0m                'from={}'.format(cube)]\n\u001b[0;32m---> 46\u001b[0;31m     \u001b[0mresult\u001b[0m \u001b[0;34m=\u001b[0m \u001b[0msubprocess\u001b[0m\u001b[0;34m.\u001b[0m\u001b[0mrun\u001b[0m\u001b[0;34m(\u001b[0m\u001b[0mcommand\u001b[0m\u001b[0;34m,\u001b[0m\u001b[0mstdout\u001b[0m\u001b[0;34m=\u001b[0m\u001b[0msubprocess\u001b[0m\u001b[0;34m.\u001b[0m\u001b[0mPIPE\u001b[0m\u001b[0;34m)\u001b[0m\u001b[0;34m\u001b[0m\u001b[0m\n\u001b[0m\u001b[1;32m     47\u001b[0m     \u001b[0mcam_out\u001b[0m \u001b[0;34m=\u001b[0m \u001b[0mpvl\u001b[0m\u001b[0;34m.\u001b[0m\u001b[0mloads\u001b[0m\u001b[0;34m(\u001b[0m\u001b[0mresult\u001b[0m\u001b[0;34m.\u001b[0m\u001b[0mstdout\u001b[0m\u001b[0;34m.\u001b[0m\u001b[0mdecode\u001b[0m\u001b[0;34m(\u001b[0m\u001b[0;34m)\u001b[0m\u001b[0;34m)\u001b[0m\u001b[0;34m\u001b[0m\u001b[0m\n\u001b[1;32m     48\u001b[0m \u001b[0;34m\u001b[0m\u001b[0m\n",
      "\u001b[0;32m~/anaconda3/envs/jupyterdemo/lib/python3.6/subprocess.py\u001b[0m in \u001b[0;36mrun\u001b[0;34m(input, timeout, check, *popenargs, **kwargs)\u001b[0m\n\u001b[1;32m    403\u001b[0m     \u001b[0;32mwith\u001b[0m \u001b[0mPopen\u001b[0m\u001b[0;34m(\u001b[0m\u001b[0;34m*\u001b[0m\u001b[0mpopenargs\u001b[0m\u001b[0;34m,\u001b[0m \u001b[0;34m**\u001b[0m\u001b[0mkwargs\u001b[0m\u001b[0;34m)\u001b[0m \u001b[0;32mas\u001b[0m \u001b[0mprocess\u001b[0m\u001b[0;34m:\u001b[0m\u001b[0;34m\u001b[0m\u001b[0m\n\u001b[1;32m    404\u001b[0m         \u001b[0;32mtry\u001b[0m\u001b[0;34m:\u001b[0m\u001b[0;34m\u001b[0m\u001b[0m\n\u001b[0;32m--> 405\u001b[0;31m             \u001b[0mstdout\u001b[0m\u001b[0;34m,\u001b[0m \u001b[0mstderr\u001b[0m \u001b[0;34m=\u001b[0m \u001b[0mprocess\u001b[0m\u001b[0;34m.\u001b[0m\u001b[0mcommunicate\u001b[0m\u001b[0;34m(\u001b[0m\u001b[0minput\u001b[0m\u001b[0;34m,\u001b[0m \u001b[0mtimeout\u001b[0m\u001b[0;34m=\u001b[0m\u001b[0mtimeout\u001b[0m\u001b[0;34m)\u001b[0m\u001b[0;34m\u001b[0m\u001b[0m\n\u001b[0m\u001b[1;32m    406\u001b[0m         \u001b[0;32mexcept\u001b[0m \u001b[0mTimeoutExpired\u001b[0m\u001b[0;34m:\u001b[0m\u001b[0;34m\u001b[0m\u001b[0m\n\u001b[1;32m    407\u001b[0m             \u001b[0mprocess\u001b[0m\u001b[0;34m.\u001b[0m\u001b[0mkill\u001b[0m\u001b[0;34m(\u001b[0m\u001b[0;34m)\u001b[0m\u001b[0;34m\u001b[0m\u001b[0m\n",
      "\u001b[0;32m~/anaconda3/envs/jupyterdemo/lib/python3.6/subprocess.py\u001b[0m in \u001b[0;36mcommunicate\u001b[0;34m(self, input, timeout)\u001b[0m\n\u001b[1;32m    828\u001b[0m                 \u001b[0mself\u001b[0m\u001b[0;34m.\u001b[0m\u001b[0m_stdin_write\u001b[0m\u001b[0;34m(\u001b[0m\u001b[0minput\u001b[0m\u001b[0;34m)\u001b[0m\u001b[0;34m\u001b[0m\u001b[0m\n\u001b[1;32m    829\u001b[0m             \u001b[0;32melif\u001b[0m \u001b[0mself\u001b[0m\u001b[0;34m.\u001b[0m\u001b[0mstdout\u001b[0m\u001b[0;34m:\u001b[0m\u001b[0;34m\u001b[0m\u001b[0m\n\u001b[0;32m--> 830\u001b[0;31m                 \u001b[0mstdout\u001b[0m \u001b[0;34m=\u001b[0m \u001b[0mself\u001b[0m\u001b[0;34m.\u001b[0m\u001b[0mstdout\u001b[0m\u001b[0;34m.\u001b[0m\u001b[0mread\u001b[0m\u001b[0;34m(\u001b[0m\u001b[0;34m)\u001b[0m\u001b[0;34m\u001b[0m\u001b[0m\n\u001b[0m\u001b[1;32m    831\u001b[0m                 \u001b[0mself\u001b[0m\u001b[0;34m.\u001b[0m\u001b[0mstdout\u001b[0m\u001b[0;34m.\u001b[0m\u001b[0mclose\u001b[0m\u001b[0;34m(\u001b[0m\u001b[0;34m)\u001b[0m\u001b[0;34m\u001b[0m\u001b[0m\n\u001b[1;32m    832\u001b[0m             \u001b[0;32melif\u001b[0m \u001b[0mself\u001b[0m\u001b[0;34m.\u001b[0m\u001b[0mstderr\u001b[0m\u001b[0;34m:\u001b[0m\u001b[0;34m\u001b[0m\u001b[0m\n",
      "\u001b[0;31mKeyboardInterrupt\u001b[0m: "
     ]
    }
   ],
   "source": [
    "'''The purpose of this script is to look into which rosetta F22 images view a specified \n",
    "ground point of the CG67 (within a specific degree). This cell calculates the theta angle\n",
    "between the selected ground point vector and the ground point vector for the center pixel\n",
    "of an input image. Theta values are stored for all input images in a dictionary of format \n",
    "{absPath/imgName: theta}.\n",
    "'''\n",
    "\n",
    "import numpy as np\n",
    "import subprocess, pvl, os, json\n",
    "\n",
    "\n",
    "#USER INPUTS########\n",
    "#variables set for my convenience for creating my relevant perspectives\n",
    "ax = 'x' #could be set to 'x' 'y' or 'z'\n",
    "ori = 'pos' #could be set to positive 'pos' or negative 'neg'\n",
    "\n",
    "#variables required for future module\n",
    "gp_perspective = [1, 0, 0] #x,y,z coordinates of the ground point perspective is centered around; typically set by user\n",
    "img_file = 'img_list_head.txt'\n",
    "\n",
    "\n",
    "unit_gp_perspective = gp_perspective / np.linalg.norm(gp_perspective)\n",
    "\n",
    "#read in entire input file and save as list\n",
    "img_list = open(img_file).readlines()\n",
    "img_dict = {} #initilize image:theta dictionary\n",
    "\n",
    "for i in range(0,len(img_list)):\n",
    "    img = img_list[i]\n",
    "    cube = os.path.splitext(os.path.split(img)[-1])[0]+'.cub' #################################IS THERE a less horrid way to do this?\n",
    "\n",
    "    #ingest image\n",
    "    command = ['rososiris2isis',\n",
    "               'from={}'.format(img),\n",
    "               'to={}'.format(cube)]\n",
    "    subprocess.run(command)\n",
    "        \n",
    "    #spiceinit\n",
    "    command = ['spiceinit',\n",
    "               'from={}'.format(cube),\n",
    "               'shape=user',\n",
    "               'model=$ISIS3DATA/rosetta/kernels/dsk/ROS_CG_M004_OSPGDLR_U_V1.bds',\n",
    "               '-preference=/work/projects/rosetta/testing/ISIS3_mission_processing_scripts/rosetta_scripts/IsisPreferences_Bullet']\n",
    "    subprocess.run(command,stdout=subprocess.DEVNULL)\n",
    "        \n",
    "    #campt\n",
    "    command = ['campt',\n",
    "               'from={}'.format(cube)]\n",
    "    result = subprocess.run(command,stdout=subprocess.PIPE)\n",
    "    cam_out = pvl.loads(result.stdout.decode())\n",
    "        \n",
    "    #calculate theta and compare to tolerance \n",
    "    gp_input = np.array(cam_out['GroundPoint']['BodyFixedCoordinate'][0]) #ground point vector of center pixel of input image\n",
    "    unit_gp_input = gp_input / np.linalg.norm(gp_input) #unitize\n",
    "    theta = np.arccos(np.dot(unit_gp_input, unit_gp_perspective))*180/np.pi #calc angle between perspective gp vector and images center pixel gp vector\n",
    "        \n",
    "    #create dictionary of filename: theta \n",
    "    img_dict.update({'{}'.format(img.strip()): theta})\n",
    "    \n",
    "    #clean up and print progress\n",
    "    subprocess.run(['rm',\n",
    "                    '{}'.format(cube)])\n",
    "    subprocess.run(['echo',\n",
    "                    'Image {} of {} complete'.format(i+1, len(img_list))])\n"
   ]
  },
  {
   "cell_type": "code",
   "execution_count": 2,
   "metadata": {},
   "outputs": [
    {
     "name": "stdout",
     "output_type": "stream",
     "text": [
      "1 images were valid for the xpos principal axis perspective with a theta tolerance of 30\n"
     ]
    }
   ],
   "source": [
    "''''''\n",
    "theta_tol = 30;\n",
    "\n",
    "img_valid = []\n",
    "for i in range(0,len(img_list)):\n",
    "    #if theta, from dictionary, is within tolerance\n",
    "    if img_dict['{}'.format(img_list[i].strip())] < theta_tol:\n",
    "        #save img base name to list for pricinple axis perspective\n",
    "        img_valid.append('{}'.format(img_list[i].strip()))\n",
    "\n",
    "print('{} images were valid for the {} principal axis perspective with a theta tolerance of {}'.format(len(img_valid), ax+ori, theta_tol))        \n",
    "\n",
    "#create and write a text file to list valid image names \n",
    "cur_dir = os.getcwd()\n",
    "sub_dir = ax+ori\n",
    "ofilename = ax+ori+'_valid_imgs.txt'\n",
    "ofilepath = os.path.join(cur_dir,sub_dir,ofilename)\n",
    "of = open(ofilepath,'w')\n",
    "of.write('\\n'.join(img_valid))\n",
    "#pickle.dump(img_valid, of) #write the list of valid images to file\n",
    "of.close()\n",
    "\n",
    "#create and write a text file to use as output log image name: theta calculated\n",
    "log_filename = ax+ori+'_log.txt'\n",
    "log_filepath = os.path.join(cur_dir,sub_dir,log_filename)\n",
    "lf = open(log_filepath,'w')\n",
    "lf.write(\"\\n\".join(\"{}: theta = {}\".format(k, v) for k, v in img_dict.items())) #write out the dictionary of img_names:theta to file\n",
    "lf.close()"
   ]
  }
 ],
 "metadata": {
  "kernelspec": {
   "display_name": "Python 3",
   "language": "python",
   "name": "python3"
  },
  "language_info": {
   "codemirror_mode": {
    "name": "ipython",
    "version": 3
   },
   "file_extension": ".py",
   "mimetype": "text/x-python",
   "name": "python",
   "nbconvert_exporter": "python",
   "pygments_lexer": "ipython3",
   "version": "3.6.6"
  }
 },
 "nbformat": 4,
 "nbformat_minor": 2
}
