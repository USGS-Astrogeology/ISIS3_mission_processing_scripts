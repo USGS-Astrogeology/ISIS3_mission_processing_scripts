{
 "cells": [
  {
   "cell_type": "markdown",
   "metadata": {},
   "source": [
    "The purpose of this script is to look into which rosetta F22 images view a specified \n",
    "ground point of the CG67 (within a specific degree). This cell calculates the theta angle\n",
    "between the selected ground point vector and the ground point vector for the center pixel\n",
    "of an input image. Theta values are stored for all input images in a dictionary of format \n",
    "{absPath/imgName: theta}."
   ]
  },
  {
   "cell_type": "code",
   "execution_count": 1,
   "metadata": {},
   "outputs": [],
   "source": [
    "import numpy as np\n",
    "import subprocess, pvl, os, json"
   ]
  },
  {
   "cell_type": "markdown",
   "metadata": {},
   "source": [
    "## User Inputs\n",
    "variables set for testing purposes"
   ]
  },
  {
   "cell_type": "code",
   "execution_count": 31,
   "metadata": {},
   "outputs": [],
   "source": [
    "ax = 'x' #could be set to 'x' 'y' or 'z'\n",
    "ori = 'neg' #could be set to positive 'pos' or negative 'neg'\n",
    "\n",
    "#variables required for future module\n",
    "gp_perspective = [-1, 0, 0] #x,y,z coordinates of the ground point perspective is centered around; typically set by user\n",
    "img_file = 'F22_img.lis'\n",
    "cexist = True #boolean indicating if the "
   ]
  },
  {
   "cell_type": "code",
   "execution_count": 32,
   "metadata": {},
   "outputs": [],
   "source": [
    "#read in entire input file and save as list\n",
    "img_list = open(img_file).readlines()\n",
    "img_dict = {} #initilize image:theta dictionary\n",
    "\n",
    "#create sub directory for cubes\n",
    "cur_dir = os.getcwd()\n",
    "if not os.path.exists(os.path.join(cur_dir, 'cube')):\n",
    "    os.makedirs(os.path.join(cur_dir, 'cube'))"
   ]
  },
  {
   "cell_type": "code",
   "execution_count": 33,
   "metadata": {},
   "outputs": [
    {
     "name": "stdout",
     "output_type": "stream",
     "text": [
      "Image 1 of 10 complete\n",
      "Image 2 of 10 complete\n",
      "Image 3 of 10 complete\n",
      "Image 4 of 10 complete\n",
      "Image 5 of 10 complete\n",
      "Image 6 of 10 complete\n",
      "Image 7 of 10 complete\n",
      "Image 8 of 10 complete\n",
      "Image 9 of 10 complete\n",
      "Image 10 of 10 complete\n"
     ]
    }
   ],
   "source": [
    "unit_gp_perspective = gp_perspective / np.linalg.norm(gp_perspective)\n",
    "\n",
    "for i in range(0,len(img_list)):\n",
    "    try:\n",
    "        img = img_list[i]\n",
    "        image_basename = os.path.splitext(os.path.basename(img))[0]\n",
    "        cube = os.path.join('cube', image_basename + '.cub')\n",
    "        \n",
    "        if cexist == False: #if cubes do not exist of the images you want to check\n",
    "            #ingest image\n",
    "            command = ['rososiris2isis',\n",
    "                       'from={}'.format(img),\n",
    "                       'to={}'.format(cube)]\n",
    "            result = subprocess.run(\n",
    "                    command,\n",
    "                    stdout=subprocess.PIPE,\n",
    "                    stderr=subprocess.PIPE,\n",
    "                    check=True)\n",
    "\n",
    "            #spiceinit\n",
    "            command = ['spiceinit',\n",
    "                       'from={}'.format(cube),\n",
    "                       'shape=user',\n",
    "                       'model=$ISIS3DATA/rosetta/kernels/dsk/ROS_CG_M004_OSPGDLR_U_V1.bds',\n",
    "                       '-preference=IsisPreferences_Bullet']\n",
    "            result = subprocess.run(\n",
    "                    command,\n",
    "                    stdout=subprocess.PIPE,\n",
    "                    stderr=subprocess.PIPE,\n",
    "                    check=True)\n",
    "\n",
    "        #campt\n",
    "        command = ['campt',\n",
    "                   'from={}'.format(cube)]\n",
    "        result = subprocess.run(\n",
    "                command,\n",
    "                stdout=subprocess.PIPE,\n",
    "                stderr=subprocess.PIPE,\n",
    "                check=True)\n",
    "        cam_out = pvl.loads(result.stdout.decode())\n",
    "\n",
    "        #calculate theta and compare to tolerance \n",
    "        gp_input = np.array(cam_out['GroundPoint']['BodyFixedCoordinate'][0]) #ground point vector of center pixel of input image\n",
    "        unit_gp_input = gp_input / np.linalg.norm(gp_input) #unitize\n",
    "        theta = np.arccos(np.dot(unit_gp_input, unit_gp_perspective))*180/np.pi #calc angle between perspective gp vector and images center pixel gp vector\n",
    "\n",
    "        #create dictionary of filename: theta \n",
    "        img_dict.update({'{}'.format(img.strip()): theta})\n",
    "\n",
    "        #print progress\n",
    "        print('Image {} of {} complete'.format(i+1, len(img_list)))\n",
    "        \n",
    "    except subprocess.CalledProcessError as ex:\n",
    "        print('Image {} failed on ISIS call:'.format(i+1))\n",
    "        print(' '.join(ex.cmd))\n",
    "        print('ISIS exception:')\n",
    "        print(ex.stderr.decode())\n",
    "        continue;\n",
    "        \n",
    "    except Exception as ex:\n",
    "        print('Image {} failed with exception:'.format(i+1))\n",
    "        print(ex)\n",
    "        continue;\n"
   ]
  },
  {
   "cell_type": "code",
   "execution_count": 29,
   "metadata": {},
   "outputs": [
    {
     "name": "stdout",
     "output_type": "stream",
     "text": [
      "169 images out of 358 were not spice inited in previous step\n",
      "24 images out of these remaining 189 were valid for the xpos principal axis perspective with a theta tolerance of 45\n"
     ]
    }
   ],
   "source": [
    "''''''\n",
    "theta_tol = 45\n",
    "\n",
    "img_valid = []\n",
    "cnt = 0\n",
    "for i in range(0,len(img_list)):\n",
    "    try:\n",
    "        img = img_list[i]\n",
    "        image_basename = os.path.splitext(os.path.basename(img))[0]\n",
    "        #if theta, from dictionary, is within tolerance\n",
    "        if img_dict['{}'.format(img.strip())] < theta_tol:\n",
    "            #save img base name to list for pricinple axis perspective\n",
    "            img_valid.append('{}'.format(img_list[i].strip()))\n",
    "            \n",
    "    except KeyError:\n",
    "        #continue\n",
    "        cnt += 1\n",
    "        #print('{} not spiceinited'.format(image_basename))\n",
    "        \n",
    "print('{} images out of {} were not spice inited in previous step'.format(cnt, len(img_list)))\n",
    "print('{} images out of these remaining {} were valid for the {} principal axis perspective with a theta tolerance of {}'.format(len(img_valid), len(img_list)-cnt, ax+ori, theta_tol))        "
   ]
  },
  {
   "cell_type": "code",
   "execution_count": 30,
   "metadata": {},
   "outputs": [],
   "source": [
    "#create and write a text file to list valid image names \n",
    "sub_dir = ax+ori\n",
    "ofilename = ax+ori+'_valid_imgs.txt'\n",
    "ofilepath = os.path.join(cur_dir,sub_dir,ofilename)\n",
    "of = open(ofilepath,'w')\n",
    "of.write('\\n'.join(img_valid))\n",
    "#pickle.dump(img_valid, of) #write the list of valid images to file\n",
    "of.close()\n",
    "\n",
    "#create and write a text file to use as output log image name: theta calculated\n",
    "log_filename = ax+ori+'_log.txt'\n",
    "log_filepath = os.path.join(cur_dir,sub_dir,log_filename)\n",
    "lf = open(log_filepath,'w')\n",
    "lf.write(\"\\n\".join(\"{}: theta = {}\".format(k, v) for k, v in img_dict.items())) #write out the dictionary of img_names:theta to file\n",
    "lf.close()"
   ]
  }
 ],
 "metadata": {
  "kernelspec": {
   "display_name": "Python 3",
   "language": "python",
   "name": "python3"
  },
  "language_info": {
   "codemirror_mode": {
    "name": "ipython",
    "version": 3
   },
   "file_extension": ".py",
   "mimetype": "text/x-python",
   "name": "python",
   "nbconvert_exporter": "python",
   "pygments_lexer": "ipython3",
   "version": "3.6.5"
  }
 },
 "nbformat": 4,
 "nbformat_minor": 2
}
